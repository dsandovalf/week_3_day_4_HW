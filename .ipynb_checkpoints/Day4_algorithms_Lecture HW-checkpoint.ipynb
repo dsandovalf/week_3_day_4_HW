{
 "cells": [
  {
   "cell_type": "markdown",
   "metadata": {},
   "source": [
    "# Algorithms, Binary Search & Linked Lists"
   ]
  },
  {
   "cell_type": "markdown",
   "metadata": {},
   "source": [
    "## Tasks Today:\n",
    " \n",
    "1) <b>In-Place Algorithms</b> <br>\n",
    " &nbsp;&nbsp;&nbsp;&nbsp; a) Syntax <br>\n",
    " &nbsp;&nbsp;&nbsp;&nbsp; a) Out of Place Algorithm <br>\n",
    " &nbsp;&nbsp;&nbsp;&nbsp; b) In-Class Exercise #1 <br>\n",
    "2) <b>Two Pointers</b> <br>\n",
    "3) <b>Linked Lists</b> <br>\n",
    "4) <b>Merge Sort</b> <br>\n",
    " &nbsp;&nbsp;&nbsp;&nbsp; a) Video on Algorithms <br>\n",
    " &nbsp;&nbsp;&nbsp;&nbsp; b) How it Works <br>\n",
    "5) <b>Exercises</b> <br>\n",
    " &nbsp;&nbsp;&nbsp;&nbsp; a) Exercise #1 - Reverse a List in Place Using an In-Place Algorithm <br>\n",
    " &nbsp;&nbsp;&nbsp;&nbsp; b) Exercise #2 - Find Distinct Words <br>\n",
    " &nbsp;&nbsp;&nbsp;&nbsp; c) Exercise #3 - Write a program to implement a Linear Search Algorithm. <br>"
   ]
  },
  {
   "cell_type": "raw",
   "metadata": {},
   "source": [
    "## Whiteboard\n",
    "\n",
    "\n",
    "\n",
    "\n",
    "Electric Company\n",
    "\n",
    "Create a function that given a list which represents street lights given as a parameter, determine if an outage has occurred. A street with a total number of “F” greater than or equal to 2 returns “Outage”, anything below returns “Power”\n",
    "\n",
    "\n",
    "\n",
    "Example Input: [ 'T', 'F', 'F', 'F' ]\n",
    "Example Output: “Outage”\n",
    "\n"
   ]
  },
  {
   "cell_type": "code",
   "execution_count": 1,
   "metadata": {},
   "outputs": [
    {
     "name": "stdout",
     "output_type": "stream",
     "text": [
      "outage\n"
     ]
    }
   ],
   "source": [
    "def electric(x):\n",
    "        function = 0\n",
    "        for i in x:\n",
    "            if i.lower() == \"f\":\n",
    "                function += 1\n",
    "        if function >= 2:\n",
    "            print(\"outage\")\n",
    "        else:\n",
    "            print(\"power\")\n",
    "electric([\"f\", \"f\" , \"f\"])"
   ]
  },
  {
   "cell_type": "code",
   "execution_count": null,
   "metadata": {},
   "outputs": [],
   "source": []
  },
  {
   "cell_type": "markdown",
   "metadata": {},
   "source": [
    "## In-Place Algorithms"
   ]
  },
  {
   "cell_type": "markdown",
   "metadata": {},
   "source": [
    "#### In-place"
   ]
  },
  {
   "cell_type": "code",
   "execution_count": 2,
   "metadata": {},
   "outputs": [
    {
     "name": "stdout",
     "output_type": "stream",
     "text": [
      "[4, 5, 7, 23, 76, 77, 234, 7354]\n"
     ]
    }
   ],
   "source": [
    "my_list = [76,234,7354,23,4,5,77,7]\n",
    "\n",
    "my_list.sort()\n",
    "print(my_list)"
   ]
  },
  {
   "cell_type": "code",
   "execution_count": 12,
   "metadata": {},
   "outputs": [
    {
     "name": "stdout",
     "output_type": "stream",
     "text": [
      "[7, 5, 4, 23, 76, 77, 234, 7354]\n"
     ]
    }
   ],
   "source": [
    "my_list_ex = [4, 5, 7, 23, 76, 77, 234, 7354]\n",
    "\n",
    "\n",
    "def swap(alist, x, y, z):\n",
    "    alist[0], alist[1], alist[2] = alist[2], alist[1], alist[0]\n",
    "    return alist\n",
    "\n",
    "print(swap(my_list_ex, 4, 5, 7))"
   ]
  },
  {
   "cell_type": "markdown",
   "metadata": {},
   "source": [
    "#### Out of Place Algorithm"
   ]
  },
  {
   "cell_type": "code",
   "execution_count": 4,
   "metadata": {
    "scrolled": true
   },
   "outputs": [
    {
     "name": "stdout",
     "output_type": "stream",
     "text": [
      "[4, 5, 7, 23, 76, 77, 234, 7354]\n"
     ]
    }
   ],
   "source": [
    "my_list2 = sorted(my_list)\n",
    "print(my_list2)"
   ]
  },
  {
   "cell_type": "code",
   "execution_count": 14,
   "metadata": {},
   "outputs": [
    {
     "name": "stdout",
     "output_type": "stream",
     "text": [
      "[10, 4, 20]\n"
     ]
    }
   ],
   "source": [
    "my_list = [20,4,10]\n",
    "\n",
    "def rev(my_list):\n",
    "    my_list_rev = my_list[::-1]\n",
    "    return my_list_rev\n",
    "\n",
    "print(rev(my_list))"
   ]
  },
  {
   "cell_type": "markdown",
   "metadata": {},
   "source": [
    "#### In-Class Exercise #1 <br>\n",
    "<p>Write a function that takes in four arguments (list, index1, index2, index3), and swaps those three positions in the list passed in.</p>"
   ]
  },
  {
   "cell_type": "code",
   "execution_count": 13,
   "metadata": {},
   "outputs": [
    {
     "name": "stdout",
     "output_type": "stream",
     "text": [
      "[3, 4, 10, 8, 4, 2, 6]\n"
     ]
    }
   ],
   "source": [
    "l_1 = [10, 4, 3, 8, 4, 2, 6]\n",
    "\n",
    "def swap_ex(my_list, index1, index2, index3):\n",
    "    my_list[0], my_list[1], my_list[2], = my_list[2], my_list[1], my_list[0],\n",
    "    return my_list\n",
    "\n",
    "print(swap_ex(l_1, 10, 4, 3))"
   ]
  },
  {
   "cell_type": "markdown",
   "metadata": {},
   "source": [
    "## Two Pointers"
   ]
  },
  {
   "cell_type": "markdown",
   "metadata": {},
   "source": [
    "#### Syntax"
   ]
  },
  {
   "cell_type": "code",
   "execution_count": 16,
   "metadata": {},
   "outputs": [
    {
     "name": "stdout",
     "output_type": "stream",
     "text": [
      "[1, 2, 3, 12, 8, 9, 11, 22]\n"
     ]
    }
   ],
   "source": [
    "def two_pointers(alist):\n",
    "    left = 0 \n",
    "    right = len(alist)-1\n",
    "    while left >= right:\n",
    "        alist[left], alist[right] = alist[right], alist[left]\n",
    "        left += 1\n",
    "        right -= 1\n",
    "    return alist\n",
    "\n",
    "print(two_pointers([1,2,3,12,8,9,11,22]))"
   ]
  },
  {
   "cell_type": "markdown",
   "metadata": {},
   "source": [
    "#### Video of Algorithms <br>\n",
    "<p>Watch the video about algorithms.</p>\n",
    "\n",
    "https://www.youtube.com/watch?v=Q9HjeFD62Uk\n",
    "\n",
    "https://www.youtube.com/watch?v=kPRA0W1kECg\n",
    "\n",
    "https://www.youtube.com/watch?v=ZZuD6iUe3Pc"
   ]
  },
  {
   "cell_type": "markdown",
   "metadata": {},
   "source": [
    "# Sorting Algorithms"
   ]
  },
  {
   "cell_type": "markdown",
   "metadata": {},
   "source": [
    "#### Bubble Sort\n",
    "\n",
    "Worst Case: O(n^2) Time - O(1) Space"
   ]
  },
  {
   "cell_type": "code",
   "execution_count": 17,
   "metadata": {},
   "outputs": [
    {
     "name": "stdout",
     "output_type": "stream",
     "text": [
      "[11, 22, 34, 44, 55, 66, 88, 100]\n"
     ]
    }
   ],
   "source": [
    "#O(n)\n",
    "def swap(i,j,array):\n",
    "    array[i], array[j] = array[j], array[i]\n",
    "    \n",
    "def bubble_sort(array):\n",
    "    is_sorted = False\n",
    "    while not is_sorted:\n",
    "        is_sorted = True\n",
    "        for num in range(len(array)-1):\n",
    "            if array[num] > array[num + 1]:\n",
    "                swap(num, num+1, array)\n",
    "                is_sorted = False\n",
    "    return array   \n",
    "            \n",
    "print(bubble_sort([22,88,55,44,11,100,34,66]))       "
   ]
  },
  {
   "cell_type": "code",
   "execution_count": null,
   "metadata": {},
   "outputs": [],
   "source": [
    "# MEMORIZE \n",
    "\n",
    "# Python program for implementation of Bubble Sort\n",
    " \n",
    "def bubbleSort(arr):\n",
    "    n = len(arr)\n",
    " \n",
    "    # Traverse through all array elements\n",
    "    for i in range(n-1):\n",
    "    # range(n) also work but outer loop will repeat one time more than needed.\n",
    " \n",
    "        # Last i elements are already in place\n",
    "        for j in range(0, n-i-1):\n",
    " \n",
    "            # traverse the array from 0 to n-i-1\n",
    "            # Swap if the element found is greater\n",
    "            # than the next element\n",
    "            if arr[j] > arr[j + 1] :\n",
    "                arr[j], arr[j + 1] = arr[j + 1], arr[j]\n",
    " \n",
    "# Driver code to test above\n",
    "arr = [64, 34, 25, 12, 22, 11, 90]\n",
    " \n",
    "bubbleSort(arr)\n",
    " \n",
    "print (\"Sorted array is:\")\n",
    "for i in range(len(arr)):\n",
    "    print (\"% d\" % arr[i]),"
   ]
  },
  {
   "cell_type": "markdown",
   "metadata": {},
   "source": [
    "##### Insertion Sort\n",
    "\n",
    "Worst Case: O(n^2) time - O(1)space"
   ]
  },
  {
   "cell_type": "code",
   "execution_count": 19,
   "metadata": {},
   "outputs": [
    {
     "name": "stdout",
     "output_type": "stream",
     "text": [
      "[11, 22, 34, 44, 55, 66, 88, 100]\n"
     ]
    }
   ],
   "source": [
    "def swap(i,j,array):\n",
    "    array[i], array[j] = array[j], array[i]\n",
    "    \n",
    "def insertion_sort(array):\n",
    "    for i in range(1, len(array)):\n",
    "        j = i\n",
    "        while j > 0 and array[j] < array[j - 1]:\n",
    "            swap(j, j - 1, array)\n",
    "            j -= 1\n",
    "    return array\n",
    "print(insertion_sort([22,88,55,44,11,100,34,66]))"
   ]
  },
  {
   "cell_type": "markdown",
   "metadata": {},
   "source": [
    "## Merge Sort"
   ]
  },
  {
   "cell_type": "markdown",
   "metadata": {},
   "source": [
    "#### How it Works"
   ]
  },
  {
   "cell_type": "code",
   "execution_count": null,
   "metadata": {},
   "outputs": [],
   "source": [
    "# Step 1: Split everything into groups\n",
    "# Step 2: from the left to right merge the two groups together\n",
    "# STep 3: While merging, place each item in the correct position with in the merged group\n",
    "#Step 4: Continue steps 3-4 until one group is left\n",
    "\n",
    "def merge_sort(alist):\n",
    "    print(\"splitting\", alist)\n",
    "    if len(alist)<=1:\n",
    "        return alist\n",
    "    #Step 1\n",
    "    mid = len(alist) // 2\n",
    "    lefthalf = alist[:mid]\n",
    "    righthalf = alist[mid:]\n",
    "    # recursively call mergesort to perform the splits if needed\n",
    "    merge_sort(lefthalf)\n",
    "    merge_sort(righthalf)\n",
    "    \n",
    "    # index pointers for our list\n",
    "    i = 0 # left half\n",
    "    j = 0 #right half\n",
    "    k = 0 # in the main array\n",
    "    \n",
    "    # Step 2 Comparing the two halfs\n",
    "    while i < len(lefthalf) and j < len(righthalf):\n",
    "        if lefthalf[i]< righthalf[j]:\n",
    "            alist[k]= lefthalf[i]\n",
    "            i+=1\n",
    "        else:\n",
    "            alist[k] = righthalf[j]\n",
    "            j+=1\n",
    "        k+=1\n",
    "        \n",
    "    #Step 3\n",
    "    while i < len(lefthalf):\n",
    "        alist[k] = lefthalf[i]\n",
    "        i+=1\n",
    "        k+=1\n",
    "    while j < len(righthalf):\n",
    "        alist[k]=righthalf[j]\n",
    "        j+=1\n",
    "        k+=1\n",
    "    print(\"Merging: \", alist)\n",
    "    return alist\n",
    "\n",
    "merge_sort([22,88,55,44,11,100,34,66])"
   ]
  },
  {
   "cell_type": "markdown",
   "metadata": {},
   "source": [
    "# Binary Search\n",
    "\n",
    "The Binary Search algorithm works by finding the number in the middle of a given array and comparing it to the target. Given that the array is sorted\n",
    "\n",
    "* The worst case run time for this algorithm is `O(log(n))`"
   ]
  },
  {
   "cell_type": "code",
   "execution_count": null,
   "metadata": {},
   "outputs": [],
   "source": []
  },
  {
   "cell_type": "markdown",
   "metadata": {},
   "source": [
    "# Exercises"
   ]
  },
  {
   "cell_type": "markdown",
   "metadata": {},
   "source": [
    "### Exercise #1 <br>\n",
    "<p>Reverse the list below in-place using an in-place algorithm.<br>For extra credit: Reverse the strings at the same time.</p>"
   ]
  },
  {
   "cell_type": "code",
   "execution_count": 139,
   "metadata": {
    "scrolled": true
   },
   "outputs": [
    {
     "name": "stdout",
     "output_type": "stream",
     "text": [
      "['.', 'sentence', 'a', 'is', 'this']\n"
     ]
    }
   ],
   "source": [
    "words = ['this' , 'is', 'a', 'sentence', '.']\n",
    "\n",
    "def swap_ex(my_list, index1, index2, index3, index4, index5):\n",
    "    my_list[0], my_list[1], my_list[2], my_list[3], my_list[4],= my_list[4], my_list[3], my_list[2], my_list[1], my_list[0],\n",
    "    return my_list\n",
    "    \n",
    "\n",
    "print(swap_ex(words, 'this', 'is', 'a', 'sentence', '.'))"
   ]
  },
  {
   "cell_type": "code",
   "execution_count": 160,
   "metadata": {},
   "outputs": [
    {
     "name": "stdout",
     "output_type": "stream",
     "text": [
      "['ecnetnes']\n"
     ]
    }
   ],
   "source": [
    "words = ['this' , 'is', 'a', 'sentence', '.']\n",
    "\n",
    "def swap_ex(my_list, index1, index2, index3, index4, index5):\n",
    "    my_list[0], my_list[1], my_list[2], my_list[3], my_list[4],= my_list[4], my_list[3], my_list[2], my_list[1], my_list[0],\n",
    "    return [my_list[1][::-1]]\n",
    "    \n",
    "\n",
    "print(swap_ex(words, 'this', 'is', 'a', 'sentence', '.'))"
   ]
  },
  {
   "cell_type": "code",
   "execution_count": 143,
   "metadata": {},
   "outputs": [
    {
     "name": "stdout",
     "output_type": "stream",
     "text": [
      "['siht']\n"
     ]
    }
   ],
   "source": [
    "words = ['this' , 'is', 'a', 'sentence', '.']\n",
    "\n",
    "def swap_ex(alist):\n",
    "    for i in words:\n",
    "        return [i[::-1]]\n",
    "\n",
    "print(swap_ex(words))"
   ]
  },
  {
   "cell_type": "markdown",
   "metadata": {},
   "source": [
    "### Exercise #2 <br>\n",
    "<p>Create a function that counts how many distinct words are in the string below, then outputs a dictionary with the words as the key and the value as the amount of times that word appears in the string.<br>Should output:<br>{'a': 5,<br>\n",
    " 'abstract': 1,<br>\n",
    " 'an': 3,<br>\n",
    " 'array': 2, ... etc...</p>"
   ]
  },
  {
   "cell_type": "code",
   "execution_count": 161,
   "metadata": {
    "scrolled": true
   },
   "outputs": [
    {
     "name": "stdout",
     "output_type": "stream",
     "text": [
      "{'a': 5, 'abstract': 1, 'an': 3, 'array': 2, 'associative': 1, 'be': 1, 'buckets': 1, 'can': 2, 'compute': 1, 'computing,': 1, 'data': 2, 'desired': 1, 'found': 1, 'from': 1, 'function': 1, 'hash': 4, 'implements': 1, 'in': 1, 'index': 1, 'into': 1, 'is': 1, 'keys': 1, 'map': 2, 'of': 1, 'or': 1, 'slots': 1, 'structure': 2, 'table': 2, 'that': 1, 'the': 1, 'to': 2, 'type,': 1, 'uses': 1, 'value': 1, 'values.': 1, 'which': 2}\n"
     ]
    }
   ],
   "source": [
    "a_text = 'In computing, a hash table hash map is a data structure which implements an associative array abstract data type, a structure that can map keys to values. A hash table uses a hash function to compute an index into an array of buckets or slots from which the desired value can be found'\n",
    "\n",
    "def word_count(str):\n",
    "    counts = dict()\n",
    "    a_text = sorted(str.split())\n",
    "    for word in a_text:\n",
    "        if word in counts:\n",
    "            counts[word] += 1\n",
    "        else:\n",
    "            counts[word] = 1\n",
    "\n",
    "    return counts\n",
    "\n",
    "print(word_count(a_text.lower()))"
   ]
  },
  {
   "cell_type": "markdown",
   "metadata": {},
   "source": [
    "## Exercise #3\n",
    "\n",
    "Write a program to implement a Linear Search Algorithm. Also in a comment, write the Time Complexity of the following algorithm.\n",
    "\n",
    "#### Hint: Linear Searching will require searching a list for a given number. "
   ]
  },
  {
   "cell_type": "code",
   "execution_count": null,
   "metadata": {},
   "outputs": [],
   "source": [
    "# 0(n)"
   ]
  },
  {
   "cell_type": "code",
   "execution_count": 196,
   "metadata": {},
   "outputs": [
    {
     "name": "stdout",
     "output_type": "stream",
     "text": [
      "Number is at index: 4\n"
     ]
    }
   ],
   "source": [
    "array = [1,2,3,4,5]\n",
    "x = 5\n",
    "\n",
    "def linearsearch(array, num):\n",
    "    for num in range(len(array)):\n",
    "        if array[num] == x:\n",
    "            return num\n",
    "    return \"Error, number is not in the array\"\n",
    "    \n",
    "\n",
    "print(\"Number is at index: \" + str(linearsearch(array,x)))"
   ]
  },
  {
   "cell_type": "code",
   "execution_count": null,
   "metadata": {},
   "outputs": [],
   "source": []
  },
  {
   "cell_type": "code",
   "execution_count": null,
   "metadata": {},
   "outputs": [],
   "source": []
  }
 ],
 "metadata": {
  "kernelspec": {
   "display_name": "Python 3",
   "language": "python",
   "name": "python3"
  },
  "language_info": {
   "codemirror_mode": {
    "name": "ipython",
    "version": 3
   },
   "file_extension": ".py",
   "mimetype": "text/x-python",
   "name": "python",
   "nbconvert_exporter": "python",
   "pygments_lexer": "ipython3",
   "version": "3.8.8"
  }
 },
 "nbformat": 4,
 "nbformat_minor": 2
}
